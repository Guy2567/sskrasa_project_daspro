{
 "cells": [
  {
   "cell_type": "code",
   "execution_count": 3,
   "id": "9dc6d982-8a92-4a74-bbd3-268b8bc89170",
   "metadata": {},
   "outputs": [
    {
     "name": "stdin",
     "output_type": "stream",
     "text": [
      "Isikan nilai X : 12\n",
      "Isikan nilai Y : 16\n"
     ]
    },
    {
     "name": "stdout",
     "output_type": "stream",
     "text": [
      "Penjumlahan  12 + 16 = 28\n",
      "Pengurangan  12 - 16 = -4\n",
      "Perkalian  12 * 16 = 192\n",
      "Pembagian  12 / 16 = 0.75\n",
      "SisaBagi  12 % 16 = 12\n",
      "Pangkat  12 ^ 16 = 184884258895036416\n",
      "Pembagian Bulat  12 // 16 = 0\n"
     ]
    }
   ],
   "source": [
    "#OPERATOR ARITMATIKA\n",
    "x = int (input(\"Isikan nilai X :\"))\n",
    "y = int (input(\"Isikan nilai Y :\"))\n",
    "\n",
    "hasilTambah = x + y\n",
    "hasilKurang = x - y\n",
    "hasilKali = x * y\n",
    "hasilBagi = x / y\n",
    "hasilModulus = x % y\n",
    "hasilPangkat = x ** y\n",
    "hasilBagiBulat = x // y\n",
    "\n",
    "print(\"Penjumlahan \", x, \"+\",y, \"=\",hasilTambah)\n",
    "print(\"Pengurangan \", x, \"-\",y, \"=\",hasilKurang)\n",
    "print(\"Perkalian \", x, \"*\",y, \"=\",hasilKali)\n",
    "print(\"Pembagian \", x, \"/\",y, \"=\",hasilBagi)\n",
    "print(\"SisaBagi \", x, \"%\",y, \"=\",hasilModulus)\n",
    "print(\"Pangkat \", x, \"^\",y, \"=\",hasilPangkat)\n",
    "print(\"Pembagian Bulat \", x, \"//\",y, \"=\",hasilBagiBulat)"
   ]
  },
  {
   "cell_type": "code",
   "execution_count": 27,
   "id": "76832bee-69f0-421d-80bf-84c5cb78969b",
   "metadata": {},
   "outputs": [
    {
     "name": "stdin",
     "output_type": "stream",
     "text": [
      "Isikan Nilai : 100000\n"
     ]
    },
    {
     "name": "stdout",
     "output_type": "stream",
     "text": [
      "Nilai awal dari <nilai> : 100000\n",
      "Nilai setelah ditambahkan 3: 100003\n",
      "Nilai setelah dikurangkan 5: 99998\n",
      "Nilai setelah dikalikan 10: 999980\n",
      "Nilai setelah dibagi 2: 499990.0\n"
     ]
    }
   ],
   "source": [
    "nilai = int(input(\"Isikan Nilai :\"))\n",
    "print(\"Nilai awal dari <nilai> :\",nilai)\n",
    "nilai+=3\n",
    "print(\"Nilai setelah ditambahkan 3:\",nilai)\n",
    "nilai-=5\n",
    "print(\"Nilai setelah dikurangkan 5:\",nilai)\n",
    "nilai*=10\n",
    "print(\"Nilai setelah dikalikan 10:\",nilai)\n",
    "nilai/=2\n",
    "print(\"Nilai setelah dibagi 2:\",nilai)"
   ]
  },
  {
   "cell_type": "code",
   "execution_count": 37,
   "id": "68c1324a-b3b5-4a24-9cc9-210dcb6ef7d1",
   "metadata": {},
   "outputs": [
    {
     "name": "stdin",
     "output_type": "stream",
     "text": [
      "Isikan Nilai 1:  28\n",
      "Isikan Nilai 2:  83\n"
     ]
    },
    {
     "name": "stdout",
     "output_type": "stream",
     "text": [
      "Apakah 28 = 83? : False\n",
      "Apakah 28 ≠ 83? : True\n",
      "Apakah 28 > 83? : False\n",
      "Apakah 28 ≥ 83? : False\n",
      "Apakah 28 < 83? : True\n",
      "Apakah 28 ≤ 83? : True\n",
      "\n",
      "=== Operasi Bitwise ===\n",
      "28 & 83 (AND) = 16\n",
      "28 | 83 (OR) = 95\n",
      "28 ^ 83 (XOR) = 79\n",
      "~28 (NOT) = -29\n",
      "~83 (NOT) = -84\n",
      "83 lebih besar dari 28, angka kedua lebih unggul!\n",
      "\n",
      "Aulia aku selalu mencintaimu semoga kita berjodoh! dari sskrasa\n"
     ]
    }
   ],
   "source": [
    "# OPRATOR PERBANDINGAN\n",
    "val1 = int(input(\"Isikan Nilai 1: \"))\n",
    "val2 = int(input(\"Isikan Nilai 2: \"))\n",
    "\n",
    "# Perbandingan dasar\n",
    "print(f\"Apakah {val1} = {val2}? : {val1 == val2}\")\n",
    "print(f\"Apakah {val1} ≠ {val2}? : {val1 != val2}\")\n",
    "print(f\"Apakah {val1} > {val2}? : {val1 > val2}\")\n",
    "print(f\"Apakah {val1} ≥ {val2}? : {val1 >= val2}\")\n",
    "print(f\"Apakah {val1} < {val2}? : {val1 < val2}\")\n",
    "print(f\"Apakah {val1} ≤ {val2}? : {val1 <= val2}\")\n",
    "\n",
    "# Operator bitwise tambahan\n",
    "print(\"\\n=== Operasi Bitwise ===\")\n",
    "print(f\"{val1} & {val2} (AND) = {val1 & val2}\")\n",
    "print(f\"{val1} | {val2} (OR) = {val1 | val2}\")\n",
    "print(f\"{val1} ^ {val2} (XOR) = {val1 ^ val2}\")\n",
    "print(f\"~{val1} (NOT) = {~val1}\")\n",
    "print(f\"~{val2} (NOT) = {~val2}\")\n",
    "\n",
    "# Tambahan kondisi logis\n",
    "if val1 == val2:\n",
    "    print(\"Nilai pertama dan kedua **sama persis**.\")\n",
    "elif val1 > val2:\n",
    "    print(f\"{val1} lebih besar dari {val2}, mungkin angka pertama lebih dominan!\")\n",
    "else:\n",
    "    print(f\"{val2} lebih besar dari {val1}, angka kedua lebih unggul!\")\n",
    "\n",
    "# Tambahan pesan unik\n",
    "print(\"\\nAulia aku selalu mencintaimu semoga kita berjodoh! dari sskrasa\")\n"
   ]
  },
  {
   "cell_type": "code",
   "execution_count": 39,
   "id": "6ed49026-018f-4398-b312-77e09ae2c7f8",
   "metadata": {},
   "outputs": [
    {
     "name": "stdin",
     "output_type": "stream",
     "text": [
      "Isikan Nilai a: 23\n",
      "Isikan Nilai b: 21\n",
      "Isikan Nilai c: 05\n",
      "Isikan Nilai d: 23\n"
     ]
    },
    {
     "name": "stdout",
     "output_type": "stream",
     "text": [
      "Nilai a: 23\n",
      "Nilai b: 21\n",
      "Nilai c: 5\n",
      "Nilai d: 23\n",
      "Apakah a > b dan c < d? True\n",
      "Apakah a > b dan c < d? True\n",
      "Apakah a > b dan c < d? False\n"
     ]
    }
   ],
   "source": [
    "#OPRATOR LOGIKA\n",
    "a = int(input(\"Isikan Nilai a:\"))\n",
    "b = int(input(\"Isikan Nilai b:\"))\n",
    "c = int(input(\"Isikan Nilai c:\"))\n",
    "d = int(input(\"Isikan Nilai d:\"))\n",
    "print(\"Nilai a:\", a)\n",
    "print(\"Nilai b:\", b)\n",
    "print(\"Nilai c:\", c)\n",
    "print(\"Nilai d:\", d)\n",
    "\n",
    "print(\"Apakah a > b dan c < d?\", a > b and c < d) #Logika and\n",
    "print(\"Apakah a > b dan c < d?\", a > b or c < d) #Logika or\n",
    "print(\"Apakah a > b dan c < d?\", not (a > b and c < d)) #Logika not and"
   ]
  },
  {
   "cell_type": "code",
   "execution_count": 41,
   "id": "db000c2f-7987-4718-8971-97fb0d20629d",
   "metadata": {},
   "outputs": [
    {
     "name": "stdout",
     "output_type": "stream",
     "text": [
      "Memori address dari num1 140707933334232\n",
      "Memori address dari num2 140707933334232\n",
      "Memori address dari num3 140707933334232\n",
      "Apakah num1 adalah num2 True\n",
      "Apakah num2 adalah num3 True\n",
      "Apakah num2 bukan num3 False\n"
     ]
    }
   ],
   "source": [
    "#OPRATOR IDENDITAS\n",
    "num1 = 10\n",
    "num2 = 10\n",
    "num3 = num2\n",
    "\n",
    "print(\"Memori address dari num1\",id(num1))\n",
    "print(\"Memori address dari num2\",id(num2))\n",
    "print(\"Memori address dari num3\",id(num3))\n",
    "\n",
    "print(\"Apakah num1 adalah num2\", num1 is num2)\n",
    "print(\"Apakah num2 adalah num3\", num2 is num3)\n",
    "print(\"Apakah num2 bukan num3\", num2 is not num3)"
   ]
  },
  {
   "cell_type": "code",
   "execution_count": 43,
   "id": "de8c2c2f-56dc-493b-918a-f4cad6537c5a",
   "metadata": {},
   "outputs": [
    {
     "name": "stdin",
     "output_type": "stream",
     "text": [
      "Isikan nama yang dicari:  sskrasa aulia\n"
     ]
    },
    {
     "name": "stdout",
     "output_type": "stream",
     "text": [
      "\n",
      "=== HASIL PENCARIAN ===\n",
      "Nama ada dalam daftar: False\n",
      "Nama tidak ada dalam daftar: True\n",
      "Nama ada dalam daftar (tanpa perbedaan huruf besar/kecil): True\n",
      "Nama ditemukan sebagai bagian dari nama lain: True\n",
      "Nama cocok dengan karakter pertama 'Messi': False\n",
      "Nama tidak cocok dengan karakter pertama 'Messi': True\n",
      "\n",
      "Daftar Nama yang Dicari:\n",
      "Messi, Arul, Ronaldo, Erik, Tohir, Sskrasa Aulia\n"
     ]
    }
   ],
   "source": [
    "#oprator keanggotaan\n",
    "# Meminta input dari pengguna\n",
    "nama = input(\"Isikan nama yang dicari: \").strip()\n",
    "\n",
    "# Daftar nama dengan tambahan \"Sskrasa Aulia\"\n",
    "listNama = [x for x in [\"Messi\", \"Arul\", \"Ronaldo\", \"Erik\", \"Tohir\", \"Sskrasa Aulia\"]]\n",
    "\n",
    "# Fungsi lambda untuk pengecekan\n",
    "cek_keanggotaan = lambda n, lst: n in lst\n",
    "cek_bukan_anggota = lambda n, lst: n not in lst\n",
    "cek_case_insensitive = lambda n, lst: n.lower() in [x.lower() for x in lst]\n",
    "cek_substring = lambda n, lst: any(n.lower() in x.lower() for x in lst)\n",
    "\n",
    "# Hasil pencarian\n",
    "hasil_pencarian = {\n",
    "    \"Nama ada dalam daftar\": cek_keanggotaan(nama, listNama),\n",
    "    \"Nama tidak ada dalam daftar\": cek_bukan_anggota(nama, listNama),\n",
    "    \"Nama ada dalam daftar (tanpa perbedaan huruf besar/kecil)\": cek_case_insensitive(nama, listNama),\n",
    "    \"Nama ditemukan sebagai bagian dari nama lain\": cek_substring(nama, listNama),\n",
    "    f\"Nama cocok dengan karakter pertama '{listNama[0]}'\": nama in listNama[0],\n",
    "    f\"Nama tidak cocok dengan karakter pertama '{listNama[0]}'\": nama not in listNama[0]\n",
    "}\n",
    "\n",
    "# Menampilkan hasil\n",
    "print(\"\\n=== HASIL PENCARIAN ===\")\n",
    "for k, v in hasil_pencarian.items():\n",
    "    print(f\"{k}: {v}\")\n",
    "\n",
    "# Menampilkan daftar nama dalam format unik\n",
    "print(\"\\nDaftar Nama yang Dicari:\")\n",
    "print(\", \".join(listNama))\n"
   ]
  },
  {
   "cell_type": "code",
   "execution_count": 45,
   "id": "f967101a-12d3-4f7b-8546-331141653b28",
   "metadata": {},
   "outputs": [
    {
     "name": "stdin",
     "output_type": "stream",
     "text": [
      "Masukkan angka pertama:  12\n",
      "Masukkan angka kedua:  20\n"
     ]
    },
    {
     "name": "stdout",
     "output_type": "stream",
     "text": [
      "\n",
      "6 dalam biner: 0b00000110\n",
      "30 dalam biner: 0b00011110\n",
      "\n",
      "=== AND ===\n",
      "Hasil biner: 0b00000110\n",
      "Hasil desimal: 6\n",
      "\n",
      "=== NOT Bil2 ===\n",
      "Hasil biner: -0b0011111\n",
      "Hasil desimal: -31\n",
      "\n",
      "=== XOR ===\n",
      "Hasil biner: 0b00011000\n",
      "Hasil desimal: 24\n",
      "\n",
      "=== Shift Left ===\n",
      "Hasil biner: 0b110000000000000000000000000000000\n",
      "Hasil desimal: 6442450944\n",
      "\n",
      "=== OR ===\n",
      "Hasil biner: 0b00011110\n",
      "Hasil desimal: 30\n",
      "\n",
      "=== NOT Bil1 ===\n",
      "Hasil biner: -0b0000111\n",
      "Hasil desimal: -7\n",
      "\n",
      "=== Shift Right ===\n",
      "Hasil biner: 0b00000000\n",
      "Hasil desimal: 0\n",
      "\n",
      "Selesai! 🚀\n"
     ]
    }
   ],
   "source": [
    "#Oprator bitwise\n",
    "# Meminta input bilangan dari pengguna dengan cara berbeda\n",
    "get_input = lambda x: int(input(f\"Masukkan angka {x}: \"))\n",
    "bil1, bil2 = get_input(\"pertama\"), get_input(\"kedua\")\n",
    "\n",
    "# Encoding angka untuk membuat pola unik\n",
    "bil1, bil2 = bil1 ^ 0b1010, bil2 ^ 0b1010  # XOR dengan angka tertentu untuk membuat pola berbeda\n",
    "\n",
    "# Representasi biner dengan variasi output\n",
    "print(f\"\\n{bil1} dalam biner: {format(bil1, '#010b')}\")\n",
    "print(f\"{bil2} dalam biner: {format(bil2, '#010b')}\")\n",
    "\n",
    "# Fungsi operasi bitwise\n",
    "ops = {\n",
    "    \"AND\": lambda x, y: x & y,\n",
    "    \"OR\": lambda x, y: x | y,\n",
    "    \"XOR\": lambda x, y: x ^ y,\n",
    "    \"Shift Left\": lambda x, y: x << y,\n",
    "    \"Shift Right\": lambda x, y: x >> y,\n",
    "    \"NOT Bil1\": lambda x, _: ~x,\n",
    "    \"NOT Bil2\": lambda _, y: ~y\n",
    "}\n",
    "\n",
    "\n",
    "import random\n",
    "ops_list = list(ops.items())\n",
    "random.shuffle(ops_list)\n",
    "\n",
    "for nama, operasi in ops_list:\n",
    "    hasil = operasi(bil1, bil2)\n",
    "    print(f\"\\n=== {nama} ===\")\n",
    "    print(f\"Hasil biner: {format(hasil, '#010b')}\")\n",
    "    print(f\"Hasil desimal: {hasil}\")\n",
    "\n",
    "print(\"\\nSelesai! 🚀\")\n"
   ]
  },
  {
   "cell_type": "code",
   "execution_count": 47,
   "id": "74666c4c-fd71-4696-8c58-434d1e9645b7",
   "metadata": {},
   "outputs": [
    {
     "name": "stdin",
     "output_type": "stream",
     "text": [
      "Isikan jumlah pisang yang dibeli:  20\n",
      "Isikan jumlah kolak yang dibeli:  15\n",
      "Isikan jumlah nasi padang yang dibeli:  16\n",
      "Isikan jumlah es buah yang dibeli:  50\n"
     ]
    },
    {
     "name": "stdout",
     "output_type": "stream",
     "text": [
      "Pisang 20 = 260000\n",
      "Kolak 15 = 75000\n",
      "Nasi Padang 16 = 320000\n",
      "Es Buah 50 = 500000\n",
      "totalBelanja : 1155000\n",
      "Discount : 5 %\n",
      "Total Bayar: 1097250.0\n"
     ]
    }
   ],
   "source": [
    "#TUGAS\n",
    "pisangGoreng = int(input(\"Isikan jumlah pisang yang dibeli: \"))\n",
    "kolak = int(input(\"Isikan jumlah kolak yang dibeli: \"))\n",
    "nasiPadang = int(input(\"Isikan jumlah nasi padang yang dibeli: \"))\n",
    "esBuah = int(input(\"Isikan jumlah es buah yang dibeli: \"))\n",
    "\n",
    "print(\"Pisang\",pisangGoreng,\"=\",pisangGoreng * 13000)\n",
    "print(\"Kolak\",kolak,\"=\",kolak * 5000)\n",
    "print(\"Nasi Padang\",nasiPadang,\"=\",nasiPadang * 20000)\n",
    "print(\"Es Buah\",esBuah,\"=\",esBuah * 10000)\n",
    "totalBelanja = (pisangGoreng * 13000) + (kolak * 5000) + (nasiPadang * 20000) + (esBuah * 10000)\n",
    "print(\"totalBelanja :\",totalBelanja)\n",
    "discount = 5 if totalBelanja > 25000 else 0\n",
    "totalBayar = totalBelanja - (totalBelanja * discount/100)\n",
    "print(\"Discount :\",discount, \"%\")\n",
    "print(\"Total Bayar:\",totalBayar)"
   ]
  },
  {
   "cell_type": "code",
   "execution_count": null,
   "id": "76f0b606-f79e-44f2-8e65-bfd32892749e",
   "metadata": {},
   "outputs": [],
   "source": []
  }
 ],
 "metadata": {
  "kernelspec": {
   "display_name": "Python [conda env:base] *",
   "language": "python",
   "name": "conda-base-py"
  },
  "language_info": {
   "codemirror_mode": {
    "name": "ipython",
    "version": 3
   },
   "file_extension": ".py",
   "mimetype": "text/x-python",
   "name": "python",
   "nbconvert_exporter": "python",
   "pygments_lexer": "ipython3",
   "version": "3.12.7"
  }
 },
 "nbformat": 4,
 "nbformat_minor": 5
}
